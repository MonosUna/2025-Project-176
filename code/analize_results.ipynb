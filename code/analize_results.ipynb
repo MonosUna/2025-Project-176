{
  "nbformat": 4,
  "nbformat_minor": 0,
  "metadata": {
    "colab": {
      "provenance": [],
      "gpuType": "T4"
    },
    "kernelspec": {
      "name": "python3",
      "display_name": "Python 3"
    },
    "language_info": {
      "name": "python"
    },
    "accelerator": "GPU",
    "widgets": {
      "application/vnd.jupyter.widget-state+json": {
        "d8cb8320688944d8b781a7d3ff9b3c8c": {
          "model_module": "@jupyter-widgets/controls",
          "model_name": "HBoxModel",
          "model_module_version": "1.5.0",
          "state": {
            "_dom_classes": [],
            "_model_module": "@jupyter-widgets/controls",
            "_model_module_version": "1.5.0",
            "_model_name": "HBoxModel",
            "_view_count": null,
            "_view_module": "@jupyter-widgets/controls",
            "_view_module_version": "1.5.0",
            "_view_name": "HBoxView",
            "box_style": "",
            "children": [
              "IPY_MODEL_fcc32742320d4280ba5e64143cc219f7",
              "IPY_MODEL_30f970ab4bd74ae69e5b00144ea5c2fe",
              "IPY_MODEL_049434ccca1e4acc8e3c60b5f501cdbb"
            ],
            "layout": "IPY_MODEL_b7b9023e47a14177a4bc0433d517dd6b"
          }
        },
        "fcc32742320d4280ba5e64143cc219f7": {
          "model_module": "@jupyter-widgets/controls",
          "model_name": "HTMLModel",
          "model_module_version": "1.5.0",
          "state": {
            "_dom_classes": [],
            "_model_module": "@jupyter-widgets/controls",
            "_model_module_version": "1.5.0",
            "_model_name": "HTMLModel",
            "_view_count": null,
            "_view_module": "@jupyter-widgets/controls",
            "_view_module_version": "1.5.0",
            "_view_name": "HTMLView",
            "description": "",
            "description_tooltip": null,
            "layout": "IPY_MODEL_797cba02fd9d470bb4d9aff8ae3c6587",
            "placeholder": "​",
            "style": "IPY_MODEL_19fc37d44a1b449da379c302c7b9d72a",
            "value": "Map: 100%"
          }
        },
        "30f970ab4bd74ae69e5b00144ea5c2fe": {
          "model_module": "@jupyter-widgets/controls",
          "model_name": "FloatProgressModel",
          "model_module_version": "1.5.0",
          "state": {
            "_dom_classes": [],
            "_model_module": "@jupyter-widgets/controls",
            "_model_module_version": "1.5.0",
            "_model_name": "FloatProgressModel",
            "_view_count": null,
            "_view_module": "@jupyter-widgets/controls",
            "_view_module_version": "1.5.0",
            "_view_name": "ProgressView",
            "bar_style": "success",
            "description": "",
            "description_tooltip": null,
            "layout": "IPY_MODEL_425c63634b1f4579847ff8e2f31c5fa1",
            "max": 24012,
            "min": 0,
            "orientation": "horizontal",
            "style": "IPY_MODEL_fea996b831714133b45dc99f7c29111d",
            "value": 24012
          }
        },
        "049434ccca1e4acc8e3c60b5f501cdbb": {
          "model_module": "@jupyter-widgets/controls",
          "model_name": "HTMLModel",
          "model_module_version": "1.5.0",
          "state": {
            "_dom_classes": [],
            "_model_module": "@jupyter-widgets/controls",
            "_model_module_version": "1.5.0",
            "_model_name": "HTMLModel",
            "_view_count": null,
            "_view_module": "@jupyter-widgets/controls",
            "_view_module_version": "1.5.0",
            "_view_name": "HTMLView",
            "description": "",
            "description_tooltip": null,
            "layout": "IPY_MODEL_495b01ef62954229aa112d5deafc805a",
            "placeholder": "​",
            "style": "IPY_MODEL_ed14468f95d74b749ff0db44c2ae878e",
            "value": " 24012/24012 [01:01&lt;00:00, 357.98 examples/s]"
          }
        },
        "b7b9023e47a14177a4bc0433d517dd6b": {
          "model_module": "@jupyter-widgets/base",
          "model_name": "LayoutModel",
          "model_module_version": "1.2.0",
          "state": {
            "_model_module": "@jupyter-widgets/base",
            "_model_module_version": "1.2.0",
            "_model_name": "LayoutModel",
            "_view_count": null,
            "_view_module": "@jupyter-widgets/base",
            "_view_module_version": "1.2.0",
            "_view_name": "LayoutView",
            "align_content": null,
            "align_items": null,
            "align_self": null,
            "border": null,
            "bottom": null,
            "display": null,
            "flex": null,
            "flex_flow": null,
            "grid_area": null,
            "grid_auto_columns": null,
            "grid_auto_flow": null,
            "grid_auto_rows": null,
            "grid_column": null,
            "grid_gap": null,
            "grid_row": null,
            "grid_template_areas": null,
            "grid_template_columns": null,
            "grid_template_rows": null,
            "height": null,
            "justify_content": null,
            "justify_items": null,
            "left": null,
            "margin": null,
            "max_height": null,
            "max_width": null,
            "min_height": null,
            "min_width": null,
            "object_fit": null,
            "object_position": null,
            "order": null,
            "overflow": null,
            "overflow_x": null,
            "overflow_y": null,
            "padding": null,
            "right": null,
            "top": null,
            "visibility": null,
            "width": null
          }
        },
        "797cba02fd9d470bb4d9aff8ae3c6587": {
          "model_module": "@jupyter-widgets/base",
          "model_name": "LayoutModel",
          "model_module_version": "1.2.0",
          "state": {
            "_model_module": "@jupyter-widgets/base",
            "_model_module_version": "1.2.0",
            "_model_name": "LayoutModel",
            "_view_count": null,
            "_view_module": "@jupyter-widgets/base",
            "_view_module_version": "1.2.0",
            "_view_name": "LayoutView",
            "align_content": null,
            "align_items": null,
            "align_self": null,
            "border": null,
            "bottom": null,
            "display": null,
            "flex": null,
            "flex_flow": null,
            "grid_area": null,
            "grid_auto_columns": null,
            "grid_auto_flow": null,
            "grid_auto_rows": null,
            "grid_column": null,
            "grid_gap": null,
            "grid_row": null,
            "grid_template_areas": null,
            "grid_template_columns": null,
            "grid_template_rows": null,
            "height": null,
            "justify_content": null,
            "justify_items": null,
            "left": null,
            "margin": null,
            "max_height": null,
            "max_width": null,
            "min_height": null,
            "min_width": null,
            "object_fit": null,
            "object_position": null,
            "order": null,
            "overflow": null,
            "overflow_x": null,
            "overflow_y": null,
            "padding": null,
            "right": null,
            "top": null,
            "visibility": null,
            "width": null
          }
        },
        "19fc37d44a1b449da379c302c7b9d72a": {
          "model_module": "@jupyter-widgets/controls",
          "model_name": "DescriptionStyleModel",
          "model_module_version": "1.5.0",
          "state": {
            "_model_module": "@jupyter-widgets/controls",
            "_model_module_version": "1.5.0",
            "_model_name": "DescriptionStyleModel",
            "_view_count": null,
            "_view_module": "@jupyter-widgets/base",
            "_view_module_version": "1.2.0",
            "_view_name": "StyleView",
            "description_width": ""
          }
        },
        "425c63634b1f4579847ff8e2f31c5fa1": {
          "model_module": "@jupyter-widgets/base",
          "model_name": "LayoutModel",
          "model_module_version": "1.2.0",
          "state": {
            "_model_module": "@jupyter-widgets/base",
            "_model_module_version": "1.2.0",
            "_model_name": "LayoutModel",
            "_view_count": null,
            "_view_module": "@jupyter-widgets/base",
            "_view_module_version": "1.2.0",
            "_view_name": "LayoutView",
            "align_content": null,
            "align_items": null,
            "align_self": null,
            "border": null,
            "bottom": null,
            "display": null,
            "flex": null,
            "flex_flow": null,
            "grid_area": null,
            "grid_auto_columns": null,
            "grid_auto_flow": null,
            "grid_auto_rows": null,
            "grid_column": null,
            "grid_gap": null,
            "grid_row": null,
            "grid_template_areas": null,
            "grid_template_columns": null,
            "grid_template_rows": null,
            "height": null,
            "justify_content": null,
            "justify_items": null,
            "left": null,
            "margin": null,
            "max_height": null,
            "max_width": null,
            "min_height": null,
            "min_width": null,
            "object_fit": null,
            "object_position": null,
            "order": null,
            "overflow": null,
            "overflow_x": null,
            "overflow_y": null,
            "padding": null,
            "right": null,
            "top": null,
            "visibility": null,
            "width": null
          }
        },
        "fea996b831714133b45dc99f7c29111d": {
          "model_module": "@jupyter-widgets/controls",
          "model_name": "ProgressStyleModel",
          "model_module_version": "1.5.0",
          "state": {
            "_model_module": "@jupyter-widgets/controls",
            "_model_module_version": "1.5.0",
            "_model_name": "ProgressStyleModel",
            "_view_count": null,
            "_view_module": "@jupyter-widgets/base",
            "_view_module_version": "1.2.0",
            "_view_name": "StyleView",
            "bar_color": null,
            "description_width": ""
          }
        },
        "495b01ef62954229aa112d5deafc805a": {
          "model_module": "@jupyter-widgets/base",
          "model_name": "LayoutModel",
          "model_module_version": "1.2.0",
          "state": {
            "_model_module": "@jupyter-widgets/base",
            "_model_module_version": "1.2.0",
            "_model_name": "LayoutModel",
            "_view_count": null,
            "_view_module": "@jupyter-widgets/base",
            "_view_module_version": "1.2.0",
            "_view_name": "LayoutView",
            "align_content": null,
            "align_items": null,
            "align_self": null,
            "border": null,
            "bottom": null,
            "display": null,
            "flex": null,
            "flex_flow": null,
            "grid_area": null,
            "grid_auto_columns": null,
            "grid_auto_flow": null,
            "grid_auto_rows": null,
            "grid_column": null,
            "grid_gap": null,
            "grid_row": null,
            "grid_template_areas": null,
            "grid_template_columns": null,
            "grid_template_rows": null,
            "height": null,
            "justify_content": null,
            "justify_items": null,
            "left": null,
            "margin": null,
            "max_height": null,
            "max_width": null,
            "min_height": null,
            "min_width": null,
            "object_fit": null,
            "object_position": null,
            "order": null,
            "overflow": null,
            "overflow_x": null,
            "overflow_y": null,
            "padding": null,
            "right": null,
            "top": null,
            "visibility": null,
            "width": null
          }
        },
        "ed14468f95d74b749ff0db44c2ae878e": {
          "model_module": "@jupyter-widgets/controls",
          "model_name": "DescriptionStyleModel",
          "model_module_version": "1.5.0",
          "state": {
            "_model_module": "@jupyter-widgets/controls",
            "_model_module_version": "1.5.0",
            "_model_name": "DescriptionStyleModel",
            "_view_count": null,
            "_view_module": "@jupyter-widgets/base",
            "_view_module_version": "1.2.0",
            "_view_name": "StyleView",
            "description_width": ""
          }
        }
      }
    }
  },
  "cells": [
    {
      "cell_type": "code",
      "source": [
        "!pip install datasets"
      ],
      "metadata": {
        "colab": {
          "base_uri": "https://localhost:8080/"
        },
        "id": "GVn2iV2fzzvW",
        "outputId": "d0bb9f52-ee3f-4a24-e846-5c8e98ec1520"
      },
      "execution_count": null,
      "outputs": [
        {
          "output_type": "stream",
          "name": "stdout",
          "text": [
            "Requirement already satisfied: datasets in /usr/local/lib/python3.11/dist-packages (3.5.0)\n",
            "Requirement already satisfied: filelock in /usr/local/lib/python3.11/dist-packages (from datasets) (3.18.0)\n",
            "Requirement already satisfied: numpy>=1.17 in /usr/local/lib/python3.11/dist-packages (from datasets) (2.0.2)\n",
            "Requirement already satisfied: pyarrow>=15.0.0 in /usr/local/lib/python3.11/dist-packages (from datasets) (18.1.0)\n",
            "Requirement already satisfied: dill<0.3.9,>=0.3.0 in /usr/local/lib/python3.11/dist-packages (from datasets) (0.3.8)\n",
            "Requirement already satisfied: pandas in /usr/local/lib/python3.11/dist-packages (from datasets) (2.2.2)\n",
            "Requirement already satisfied: requests>=2.32.2 in /usr/local/lib/python3.11/dist-packages (from datasets) (2.32.3)\n",
            "Requirement already satisfied: tqdm>=4.66.3 in /usr/local/lib/python3.11/dist-packages (from datasets) (4.67.1)\n",
            "Requirement already satisfied: xxhash in /usr/local/lib/python3.11/dist-packages (from datasets) (3.5.0)\n",
            "Requirement already satisfied: multiprocess<0.70.17 in /usr/local/lib/python3.11/dist-packages (from datasets) (0.70.16)\n",
            "Requirement already satisfied: fsspec<=2024.12.0,>=2023.1.0 in /usr/local/lib/python3.11/dist-packages (from fsspec[http]<=2024.12.0,>=2023.1.0->datasets) (2024.12.0)\n",
            "Requirement already satisfied: aiohttp in /usr/local/lib/python3.11/dist-packages (from datasets) (3.11.15)\n",
            "Requirement already satisfied: huggingface-hub>=0.24.0 in /usr/local/lib/python3.11/dist-packages (from datasets) (0.30.2)\n",
            "Requirement already satisfied: packaging in /usr/local/lib/python3.11/dist-packages (from datasets) (24.2)\n",
            "Requirement already satisfied: pyyaml>=5.1 in /usr/local/lib/python3.11/dist-packages (from datasets) (6.0.2)\n",
            "Requirement already satisfied: aiohappyeyeballs>=2.3.0 in /usr/local/lib/python3.11/dist-packages (from aiohttp->datasets) (2.6.1)\n",
            "Requirement already satisfied: aiosignal>=1.1.2 in /usr/local/lib/python3.11/dist-packages (from aiohttp->datasets) (1.3.2)\n",
            "Requirement already satisfied: attrs>=17.3.0 in /usr/local/lib/python3.11/dist-packages (from aiohttp->datasets) (25.3.0)\n",
            "Requirement already satisfied: frozenlist>=1.1.1 in /usr/local/lib/python3.11/dist-packages (from aiohttp->datasets) (1.6.0)\n",
            "Requirement already satisfied: multidict<7.0,>=4.5 in /usr/local/lib/python3.11/dist-packages (from aiohttp->datasets) (6.4.3)\n",
            "Requirement already satisfied: propcache>=0.2.0 in /usr/local/lib/python3.11/dist-packages (from aiohttp->datasets) (0.3.1)\n",
            "Requirement already satisfied: yarl<2.0,>=1.17.0 in /usr/local/lib/python3.11/dist-packages (from aiohttp->datasets) (1.20.0)\n",
            "Requirement already satisfied: typing-extensions>=3.7.4.3 in /usr/local/lib/python3.11/dist-packages (from huggingface-hub>=0.24.0->datasets) (4.13.2)\n",
            "Requirement already satisfied: charset-normalizer<4,>=2 in /usr/local/lib/python3.11/dist-packages (from requests>=2.32.2->datasets) (3.4.1)\n",
            "Requirement already satisfied: idna<4,>=2.5 in /usr/local/lib/python3.11/dist-packages (from requests>=2.32.2->datasets) (3.10)\n",
            "Requirement already satisfied: urllib3<3,>=1.21.1 in /usr/local/lib/python3.11/dist-packages (from requests>=2.32.2->datasets) (2.3.0)\n",
            "Requirement already satisfied: certifi>=2017.4.17 in /usr/local/lib/python3.11/dist-packages (from requests>=2.32.2->datasets) (2025.1.31)\n",
            "Requirement already satisfied: python-dateutil>=2.8.2 in /usr/local/lib/python3.11/dist-packages (from pandas->datasets) (2.8.2)\n",
            "Requirement already satisfied: pytz>=2020.1 in /usr/local/lib/python3.11/dist-packages (from pandas->datasets) (2025.2)\n",
            "Requirement already satisfied: tzdata>=2022.7 in /usr/local/lib/python3.11/dist-packages (from pandas->datasets) (2025.2)\n",
            "Requirement already satisfied: six>=1.5 in /usr/local/lib/python3.11/dist-packages (from python-dateutil>=2.8.2->pandas->datasets) (1.17.0)\n"
          ]
        }
      ]
    },
    {
      "cell_type": "code",
      "execution_count": null,
      "metadata": {
        "id": "wdVh0Zdo_oLt"
      },
      "outputs": [],
      "source": [
        "import pandas as pd\n",
        "import numpy as np\n",
        "from sklearn.model_selection import train_test_split\n",
        "from sklearn.preprocessing import StandardScaler\n",
        "from sklearn.metrics import precision_score, recall_score, accuracy_score\n",
        "import torch\n",
        "import torch.nn as nn\n",
        "import torch.optim as optim\n",
        "from torch.utils.data import DataLoader, TensorDataset\n",
        "import matplotlib.pyplot as plt\n",
        "from transformers import RobertaTokenizer, RobertaForSequenceClassification, Trainer, TrainingArguments\n",
        "import time\n",
        "from datasets import Dataset\n",
        "from sklearn.metrics import accuracy_score, roc_auc_score, classification_report\n",
        "from sklearn.preprocessing import StandardScaler\n",
        "from sklearn.linear_model import LogisticRegression\n",
        "from sklearn.ensemble import RandomForestClassifier\n",
        "\n",
        "device = 'cuda' if torch.cuda.is_available() else 'cpu'"
      ]
    },
    {
      "cell_type": "code",
      "source": [
        "train_data = pd.read_csv(\"train_data.csv\")\n",
        "test_data = pd.read_csv(\"test_data.csv\")\n",
        "\n",
        "print(train_data.head(5))\n",
        "print(len(train_data))"
      ],
      "metadata": {
        "id": "s1Lf1QOg_whr",
        "colab": {
          "base_uri": "https://localhost:8080/"
        },
        "outputId": "b7c10643-0d6c-4a27-a096-8448bddc5db2"
      },
      "execution_count": null,
      "outputs": [
        {
          "output_type": "stream",
          "name": "stdout",
          "text": [
            "   model                  attack  \\\n",
            "0  human  perplexity_misspelling   \n",
            "1  human  perplexity_misspelling   \n",
            "2  human  perplexity_misspelling   \n",
            "3  human  perplexity_misspelling   \n",
            "4  human  perplexity_misspelling   \n",
            "\n",
            "                                          generation  mean_entropy  \\\n",
            "0  Monday evening I did my IM injection in my thi...         527.5   \n",
            "1  It’s just something I’ve been thinking about r...         603.0   \n",
            "2  I'm down to about one half of my dose from a w...         642.5   \n",
            "3  I have very fine but high density 2a/2b hair. ...         530.5   \n",
            "4  About two weeks ago my dad had a CT scan after...         799.5   \n",
            "\n",
            "   perplexity   mahalanobis  mc_entropy  \n",
            "0       2.890  10576.863846     217.625  \n",
            "1       2.898   8629.160656     136.250  \n",
            "2       3.590   7739.659480     202.125  \n",
            "3       2.410  13096.613757     143.125  \n",
            "4       3.357  15646.024745     139.125  \n",
            "24012\n"
          ]
        }
      ]
    },
    {
      "cell_type": "code",
      "source": [
        "models = train_data['model'].unique()\n",
        "train_dfs = []\n",
        "test_dfs = []\n",
        "\n",
        "train_data['label'] = train_data['model'].apply(lambda x: 0 if x == 'human' else 1)\n",
        "test_data['label'] = test_data['model'].apply(lambda x: 0 if x == 'human' else 1)"
      ],
      "metadata": {
        "id": "Wdg5MkrHcAdF"
      },
      "execution_count": null,
      "outputs": []
    },
    {
      "cell_type": "code",
      "source": [
        "features = ['mean_entropy', 'perplexity', 'mc_entropy', 'mahalanobis']\n",
        "X_train = train_data[features].values\n",
        "y_train = train_data['label'].values\n",
        "X_test = test_data[features].values\n",
        "y_test = test_data['label'].values\n",
        "\n",
        "scaler = StandardScaler()\n",
        "X_train = scaler.fit_transform(X_train)\n",
        "X_test = scaler.transform(X_test)\n",
        "\n",
        "train_dataset = TensorDataset(torch.FloatTensor(X_train), torch.FloatTensor(y_train))\n",
        "test_dataset = TensorDataset(torch.FloatTensor(X_test), torch.FloatTensor(y_test))\n",
        "\n",
        "batch_size = 64\n",
        "train_loader = DataLoader(train_dataset, batch_size=batch_size, shuffle=True)\n",
        "test_loader = DataLoader(test_dataset, batch_size=batch_size)"
      ],
      "metadata": {
        "id": "rlpjKoXAeNEy"
      },
      "execution_count": null,
      "outputs": []
    },
    {
      "cell_type": "code",
      "source": [
        "class AdvancedBinaryClassifier(nn.Module):\n",
        "    def __init__(self, input_dim):\n",
        "        super().__init__()\n",
        "        self.net = nn.Sequential(\n",
        "            nn.Linear(input_dim, 128),\n",
        "            nn.BatchNorm1d(128),\n",
        "            nn.ReLU(),\n",
        "            nn.Dropout(0.3),\n",
        "\n",
        "            nn.Linear(128, 64),\n",
        "            nn.BatchNorm1d(64),\n",
        "            nn.ReLU(),\n",
        "            nn.Dropout(0.2),\n",
        "\n",
        "            nn.Linear(64, 32),\n",
        "            nn.BatchNorm1d(32),\n",
        "            nn.ReLU(),\n",
        "\n",
        "            nn.Linear(32, 1),\n",
        "            nn.Sigmoid()\n",
        "        )\n",
        "\n",
        "    def forward(self, x):\n",
        "        return self.net(x)\n",
        "\n",
        "model = AdvancedBinaryClassifier(len(features))\n",
        "criterion = nn.BCELoss()\n",
        "optimizer = optim.Adam(model.parameters(), lr=0.001)\n",
        "\n",
        "epochs = 300\n",
        "train_losses = []\n",
        "test_losses = []"
      ],
      "metadata": {
        "id": "zVMKCuWaeR4z"
      },
      "execution_count": null,
      "outputs": []
    },
    {
      "cell_type": "code",
      "source": [
        "start_time = time.time()\n",
        "for epoch in range(epochs):\n",
        "    model.train()\n",
        "    running_loss = 0.0\n",
        "    for inputs, labels in train_loader:\n",
        "        optimizer.zero_grad()\n",
        "        outputs = model(inputs)\n",
        "        loss = criterion(outputs.squeeze(), labels)\n",
        "        loss.backward()\n",
        "        optimizer.step()\n",
        "        running_loss += loss.item()\n",
        "\n",
        "    train_loss = running_loss / len(train_loader)\n",
        "    train_losses.append(train_loss)\n",
        "\n",
        "    model.eval()\n",
        "    test_loss = 0.0\n",
        "    with torch.no_grad():\n",
        "        for inputs, labels in test_loader:\n",
        "            outputs = model(inputs)\n",
        "            loss = criterion(outputs.squeeze(), labels)\n",
        "            test_loss += loss.item()\n",
        "\n",
        "    test_loss = test_loss / len(test_loader)\n",
        "    test_losses.append(test_loss)\n",
        "\n",
        "    if (epoch+1) % 5 == 0:\n",
        "        print(f'Epoch {epoch+1}/{epochs} - Train Loss: {train_loss:.4f}, Test Loss: {test_loss:.4f}')\n",
        "total_time = time.time() - start_time"
      ],
      "metadata": {
        "id": "f-Mhiii-eXb3",
        "colab": {
          "base_uri": "https://localhost:8080/"
        },
        "outputId": "21bfbc62-ba4e-4e5b-9a7d-b2560f0256fa"
      },
      "execution_count": null,
      "outputs": [
        {
          "output_type": "stream",
          "name": "stdout",
          "text": [
            "Epoch 5/300 - Train Loss: 0.3081, Test Loss: 0.2788\n",
            "Epoch 10/300 - Train Loss: 0.2973, Test Loss: 0.2623\n",
            "Epoch 15/300 - Train Loss: 0.2891, Test Loss: 0.2679\n",
            "Epoch 20/300 - Train Loss: 0.2900, Test Loss: 0.2562\n",
            "Epoch 25/300 - Train Loss: 0.2830, Test Loss: 0.2552\n",
            "Epoch 30/300 - Train Loss: 0.2837, Test Loss: 0.2587\n",
            "Epoch 35/300 - Train Loss: 0.2760, Test Loss: 0.2541\n",
            "Epoch 40/300 - Train Loss: 0.2788, Test Loss: 0.2525\n",
            "Epoch 45/300 - Train Loss: 0.2787, Test Loss: 0.2601\n",
            "Epoch 50/300 - Train Loss: 0.2766, Test Loss: 0.2617\n",
            "Epoch 55/300 - Train Loss: 0.2744, Test Loss: 0.2554\n",
            "Epoch 60/300 - Train Loss: 0.2743, Test Loss: 0.2533\n",
            "Epoch 65/300 - Train Loss: 0.2722, Test Loss: 0.2512\n",
            "Epoch 70/300 - Train Loss: 0.2750, Test Loss: 0.2541\n",
            "Epoch 75/300 - Train Loss: 0.2715, Test Loss: 0.2505\n",
            "Epoch 80/300 - Train Loss: 0.2725, Test Loss: 0.2578\n",
            "Epoch 85/300 - Train Loss: 0.2714, Test Loss: 0.2474\n",
            "Epoch 90/300 - Train Loss: 0.2676, Test Loss: 0.2488\n",
            "Epoch 95/300 - Train Loss: 0.2683, Test Loss: 0.2518\n",
            "Epoch 100/300 - Train Loss: 0.2701, Test Loss: 0.2584\n",
            "Epoch 105/300 - Train Loss: 0.2705, Test Loss: 0.2572\n",
            "Epoch 110/300 - Train Loss: 0.2674, Test Loss: 0.2506\n",
            "Epoch 115/300 - Train Loss: 0.2684, Test Loss: 0.2536\n",
            "Epoch 120/300 - Train Loss: 0.2666, Test Loss: 0.2452\n",
            "Epoch 125/300 - Train Loss: 0.2653, Test Loss: 0.2585\n",
            "Epoch 130/300 - Train Loss: 0.2675, Test Loss: 0.2468\n",
            "Epoch 135/300 - Train Loss: 0.2657, Test Loss: 0.2489\n",
            "Epoch 140/300 - Train Loss: 0.2682, Test Loss: 0.2569\n",
            "Epoch 145/300 - Train Loss: 0.2652, Test Loss: 0.2533\n",
            "Epoch 150/300 - Train Loss: 0.2649, Test Loss: 0.2474\n",
            "Epoch 155/300 - Train Loss: 0.2638, Test Loss: 0.2419\n",
            "Epoch 160/300 - Train Loss: 0.2652, Test Loss: 0.2446\n",
            "Epoch 165/300 - Train Loss: 0.2647, Test Loss: 0.2433\n",
            "Epoch 170/300 - Train Loss: 0.2658, Test Loss: 0.2487\n",
            "Epoch 175/300 - Train Loss: 0.2655, Test Loss: 0.2500\n",
            "Epoch 180/300 - Train Loss: 0.2656, Test Loss: 0.2514\n",
            "Epoch 185/300 - Train Loss: 0.2653, Test Loss: 0.2600\n",
            "Epoch 190/300 - Train Loss: 0.2658, Test Loss: 0.2614\n",
            "Epoch 195/300 - Train Loss: 0.2648, Test Loss: 0.2533\n",
            "Epoch 200/300 - Train Loss: 0.2617, Test Loss: 0.2440\n",
            "Epoch 205/300 - Train Loss: 0.2623, Test Loss: 0.2481\n",
            "Epoch 210/300 - Train Loss: 0.2623, Test Loss: 0.2488\n",
            "Epoch 215/300 - Train Loss: 0.2635, Test Loss: 0.2485\n",
            "Epoch 220/300 - Train Loss: 0.2625, Test Loss: 0.2480\n",
            "Epoch 225/300 - Train Loss: 0.2639, Test Loss: 0.2580\n",
            "Epoch 230/300 - Train Loss: 0.2587, Test Loss: 0.2586\n",
            "Epoch 235/300 - Train Loss: 0.2598, Test Loss: 0.2442\n",
            "Epoch 240/300 - Train Loss: 0.2643, Test Loss: 0.2420\n",
            "Epoch 245/300 - Train Loss: 0.2622, Test Loss: 0.2547\n",
            "Epoch 250/300 - Train Loss: 0.2615, Test Loss: 0.2458\n",
            "Epoch 255/300 - Train Loss: 0.2624, Test Loss: 0.2495\n",
            "Epoch 260/300 - Train Loss: 0.2605, Test Loss: 0.2477\n",
            "Epoch 265/300 - Train Loss: 0.2657, Test Loss: 0.2518\n",
            "Epoch 270/300 - Train Loss: 0.2627, Test Loss: 0.2487\n",
            "Epoch 275/300 - Train Loss: 0.2624, Test Loss: 0.2434\n",
            "Epoch 280/300 - Train Loss: 0.2593, Test Loss: 0.2483\n",
            "Epoch 285/300 - Train Loss: 0.2588, Test Loss: 0.2494\n",
            "Epoch 290/300 - Train Loss: 0.2599, Test Loss: 0.2434\n",
            "Epoch 295/300 - Train Loss: 0.2593, Test Loss: 0.2496\n",
            "Epoch 300/300 - Train Loss: 0.2599, Test Loss: 0.2521\n"
          ]
        }
      ]
    },
    {
      "cell_type": "code",
      "source": [
        "plt.plot(train_losses, label='Train Loss')\n",
        "plt.plot(test_losses, label='Test Loss')\n",
        "plt.xlabel('Epoch')\n",
        "plt.ylabel('Loss')\n",
        "plt.legend()\n",
        "plt.title('Training and Test Loss')\n",
        "plt.show()\n",
        "\n",
        "model.eval()\n",
        "y_pred = []\n",
        "y_true = []\n",
        "with torch.no_grad():\n",
        "    for inputs, labels in test_loader:\n",
        "        outputs = model(inputs)\n",
        "        predicted = (outputs.squeeze() > 0.5).float()\n",
        "        y_pred.extend(predicted.numpy())\n",
        "        y_true.extend(labels.numpy())\n",
        "\n",
        "accuracy = accuracy_score(y_true, y_pred)\n",
        "precision = precision_score(y_true, y_pred)\n",
        "recall = recall_score(y_true, y_pred)\n",
        "auc = roc_auc_score(y_true, y_pred)\n",
        "\n",
        "classifier_metrics = {}\n",
        "classifier_metrics[\"Accuracy\"] = accuracy\n",
        "classifier_metrics[\"Precision\"] = precision\n",
        "classifier_metrics[\"Recall\"] = recall\n",
        "classifier_metrics[\"ROC-AUC\"] = auc\n",
        "classifier_metrics[\"Train Time\"] = total_time"
      ],
      "metadata": {
        "id": "GwN49BkjeZr_",
        "colab": {
          "base_uri": "https://localhost:8080/",
          "height": 472
        },
        "outputId": "68934d9a-44be-4ff0-9404-55bfb38298b9"
      },
      "execution_count": null,
      "outputs": [
        {
          "output_type": "display_data",
          "data": {
            "text/plain": [
              "<Figure size 640x480 with 1 Axes>"
            ],
            "image/png": "[encoded data removed]"
          },
          "metadata": {}
        }
      ]
    },
    {
      "cell_type": "code",
      "source": [
        "model = LogisticRegression()\n",
        "\n",
        "start_time = time.time()\n",
        "model.fit(X_train, y_train)\n",
        "total_time = time.time() - start_time\n",
        "\n",
        "probabilities = model.predict_proba(X_test)\n",
        "y_pred = model.predict(X_test)\n",
        "\n",
        "accuracy = accuracy_score(y_test, y_pred)\n",
        "precision = precision_score(y_test, y_pred)\n",
        "recall = recall_score(y_test, y_pred)\n",
        "auc = roc_auc_score(y_test, y_pred)\n",
        "\n",
        "regression_metrics = {}\n",
        "regression_metrics[\"Accuracy\"] = accuracy\n",
        "regression_metrics[\"Precision\"] = precision\n",
        "regression_metrics[\"Recall\"] = recall\n",
        "regression_metrics[\"ROC-AUC\"] = auc\n",
        "regression_metrics[\"Train Time\"] = total_time"
      ],
      "metadata": {
        "id": "0yRe_9XT_d34"
      },
      "execution_count": null,
      "outputs": []
    },
    {
      "cell_type": "code",
      "source": [
        "model = RandomForestClassifier(n_estimators=300, max_depth = 10)\n",
        "\n",
        "start_time = time.time()\n",
        "model.fit(X_train, y_train)\n",
        "total_time = time.time() - start_time\n",
        "\n",
        "probabilities = model.predict_proba(X_test)\n",
        "y_pred = model.predict(X_test)\n",
        "\n",
        "accuracy = accuracy_score(y_test, y_pred)\n",
        "precision = precision_score(y_test, y_pred)\n",
        "recall = recall_score(y_test, y_pred)\n",
        "auc = roc_auc_score(y_test, y_pred)\n",
        "\n",
        "forest_metrics = {}\n",
        "forest_metrics[\"Accuracy\"] = accuracy\n",
        "forest_metrics[\"Precision\"] = precision\n",
        "forest_metrics[\"Recall\"] = recall\n",
        "forest_metrics[\"ROC-AUC\"] = auc\n",
        "forest_metrics[\"Train Time\"] = total_time"
      ],
      "metadata": {
        "id": "tI3i0PFpMIcW"
      },
      "execution_count": null,
      "outputs": []
    },
    {
      "cell_type": "code",
      "source": [
        "model_name = 'roberta-base'\n",
        "tokenizer = RobertaTokenizer.from_pretrained(model_name)\n",
        "model = RobertaForSequenceClassification.from_pretrained(model_name, num_labels=2)\n",
        "\n",
        "X_train = train_data[['generation', 'label']]\n",
        "X_test = test_data[['generation', 'label']]\n",
        "\n",
        "train_dataset = Dataset.from_pandas(X_train)\n",
        "test_dataset = Dataset.from_pandas(X_test)\n",
        "\n",
        "def tokenize_function(examples):\n",
        "    return tokenizer(examples[\"generation\"], padding=\"max_length\", truncation=True, max_length=512)\n",
        "\n",
        "tokenized_train = train_dataset.map(tokenize_function, batched=True)\n",
        "\n",
        "training_args = TrainingArguments(\n",
        "    output_dir=\"./results\",\n",
        "    per_device_train_batch_size=8,\n",
        "    per_device_eval_batch_size=8,\n",
        "    num_train_epochs=1\n",
        ")\n",
        "training_args.report_to = []\n",
        "\n",
        "\n",
        "trainer = Trainer(\n",
        "    model=model,\n",
        "    args=training_args,\n",
        "    train_dataset=tokenized_train\n",
        ")\n",
        "start_time = time.time()\n",
        "trainer.train()\n",
        "total_time = time.time() - start_time"
      ],
      "metadata": {
        "id": "EM8_tNo_laBk",
        "colab": {
          "base_uri": "https://localhost:8080/",
          "height": 352,
          "referenced_widgets": [
            "d8cb8320688944d8b781a7d3ff9b3c8c",
            "fcc32742320d4280ba5e64143cc219f7",
            "30f970ab4bd74ae69e5b00144ea5c2fe",
            "049434ccca1e4acc8e3c60b5f501cdbb",
            "b7b9023e47a14177a4bc0433d517dd6b",
            "797cba02fd9d470bb4d9aff8ae3c6587",
            "19fc37d44a1b449da379c302c7b9d72a",
            "425c63634b1f4579847ff8e2f31c5fa1",
            "fea996b831714133b45dc99f7c29111d",
            "495b01ef62954229aa112d5deafc805a",
            "ed14468f95d74b749ff0db44c2ae878e"
          ]
        },
        "outputId": "884c27c1-c595-4034-d8d5-812ca39dbd8f"
      },
      "execution_count": null,
      "outputs": [
        {
          "output_type": "stream",
          "name": "stderr",
          "text": [
            "Some weights of RobertaForSequenceClassification were not initialized from the model checkpoint at roberta-base and are newly initialized: ['classifier.dense.bias', 'classifier.dense.weight', 'classifier.out_proj.bias', 'classifier.out_proj.weight']\n",
            "You should probably TRAIN this model on a down-stream task to be able to use it for predictions and inference.\n"
          ]
        },
        {
          "output_type": "display_data",
          "data": {
            "text/plain": [
              "Map:   0%|          | 0/24012 [00:00<?, ? examples/s]"
            ],
            "application/vnd.jupyter.widget-view+json": {
              "version_major": 2,
              "version_minor": 0,
              "model_id": "d8cb8320688944d8b781a7d3ff9b3c8c"
            }
          },
          "metadata": {}
        },
        {
          "output_type": "display_data",
          "data": {
            "text/plain": [
              "<IPython.core.display.HTML object>"
            ],
            "text/html": [
              "\n",
              "    <div>\n",
              "      \n",
              "      <progress value='3002' max='3002' style='width:300px; height:20px; vertical-align: middle;'></progress>\n",
              "      [3002/3002 39:19, Epoch 1/1]\n",
              "    </div>\n",
              "    <table border=\"1\" class=\"dataframe\">\n",
              "  <thead>\n",
              " <tr style=\"text-align: left;\">\n",
              "      <th>Step</th>\n",
              "      <th>Training Loss</th>\n",
              "    </tr>\n",
              "  </thead>\n",
              "  <tbody>\n",
              "    <tr>\n",
              "      <td>500</td>\n",
              "      <td>0.636600</td>\n",
              "    </tr>\n",
              "    <tr>\n",
              "      <td>1000</td>\n",
              "      <td>0.279400</td>\n",
              "    </tr>\n",
              "    <tr>\n",
              "      <td>1500</td>\n",
              "      <td>0.211400</td>\n",
              "    </tr>\n",
              "    <tr>\n",
              "      <td>2000</td>\n",
              "      <td>0.135700</td>\n",
              "    </tr>\n",
              "    <tr>\n",
              "      <td>2500</td>\n",
              "      <td>0.135400</td>\n",
              "    </tr>\n",
              "    <tr>\n",
              "      <td>3000</td>\n",
              "      <td>0.108600</td>\n",
              "    </tr>\n",
              "  </tbody>\n",
              "</table><p>"
            ]
          },
          "metadata": {}
        }
      ]
    },
    {
      "cell_type": "code",
      "source": [
        "def classify_text(text, device = \"cuda\"):\n",
        "    model.to(device)\n",
        "    inputs = tokenizer(text, return_tensors=\"pt\", truncation=True, max_length=512).to(device)\n",
        "\n",
        "    with torch.no_grad():\n",
        "        outputs = model(**inputs)\n",
        "\n",
        "    logits = outputs.logits\n",
        "    predicted_class = torch.argmax(logits, dim=1).item()\n",
        "    return predicted_class\n",
        "\n",
        "true_labels = []\n",
        "predicted_labels = []\n",
        "\n",
        "for i, row in test_data.iterrows():\n",
        "    text = row[\"generation\"]\n",
        "    true_label = row[\"label\"]\n",
        "    predicted_label = classify_text(text)\n",
        "\n",
        "    true_labels.append(true_label)\n",
        "    predicted_labels.append(predicted_label)\n",
        "\n",
        "accuracy = accuracy_score(true_labels, predicted_labels)\n",
        "precision = precision_score(true_labels, predicted_labels)\n",
        "recall = recall_score(true_labels, predicted_labels)\n",
        "auc = roc_auc_score(true_labels, predicted_labels)\n",
        "\n",
        "BERT_classifier_metrics = {}\n",
        "BERT_classifier_metrics[\"Accuracy\"] = accuracy\n",
        "BERT_classifier_metrics[\"Precision\"] = precision\n",
        "BERT_classifier_metrics[\"Recall\"] = recall\n",
        "BERT_classifier_metrics[\"ROC-AUC\"] = auc\n",
        "BERT_classifier_metrics[\"Train Time\"] = total_time"
      ],
      "metadata": {
        "id": "1PgfagwM8BiS"
      },
      "execution_count": null,
      "outputs": []
    },
    {
      "cell_type": "code",
      "source": [
        "metrics = {\n",
        "    'BERT_Classifier': BERT_classifier_metrics,\n",
        "    'Neural_Classifier_with_uncertainty': classifier_metrics,\n",
        "    'Logistic_Regression_with_uncertainty': regression_metrics,\n",
        "    'Random_forest_with_uncertainty': forest_metrics\n",
        "}\n",
        "\n",
        "df = pd.DataFrame(metrics).T.round(4)\n",
        "print(df)"
      ],
      "metadata": {
        "colab": {
          "base_uri": "https://localhost:8080/"
        },
        "id": "E5YovsJ78paO",
        "outputId": "928ac8ab-7a85-4ad5-c2ae-83a82fbe9310"
      },
      "execution_count": null,
      "outputs": [
        {
          "output_type": "stream",
          "name": "stdout",
          "text": [
            "                                      Accuracy  Precision  Recall  ROC-AUC  \\\n",
            "BERT_Classifier                         0.9538     0.9896  0.9156   0.9532   \n",
            "Neural_Classifier_with_uncertainty      0.8987     0.9557  0.8326   0.8977   \n",
            "Logistic_Regression_with_uncertainty    0.7271     0.7651  0.6426   0.7258   \n",
            "Random_forest_with_uncertainty          0.8992     0.9262  0.8640   0.8987   \n",
            "\n",
            "                                      Train Time  \n",
            "BERT_Classifier                        2362.1725  \n",
            "Neural_Classifier_with_uncertainty      378.1838  \n",
            "Logistic_Regression_with_uncertainty      0.0350  \n",
            "Random_forest_with_uncertainty           10.7419  \n"
          ]
        }
      ]
    }
  ]
}